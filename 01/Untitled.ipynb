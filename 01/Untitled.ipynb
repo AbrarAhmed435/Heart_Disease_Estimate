{
 "cells": [
  {
   "cell_type": "code",
   "execution_count": 1,
   "id": "c9da11ce-1e57-400b-b690-1f50155233ce",
   "metadata": {},
   "outputs": [],
   "source": [
    "import numpy as np \n",
    "import pandas as pd \n"
   ]
  },
  {
   "cell_type": "code",
   "execution_count": 2,
   "id": "85499b2d-4480-49c0-af25-62138a8bbd85",
   "metadata": {},
   "outputs": [],
   "source": [
    "df=pd.read_csv('heart.csv')"
   ]
  },
  {
   "cell_type": "code",
   "execution_count": 44,
   "id": "7fca48c4-fcf5-48a3-96e5-6f49ca0472dc",
   "metadata": {},
   "outputs": [
    {
     "data": {
      "text/html": [
       "<div>\n",
       "<style scoped>\n",
       "    .dataframe tbody tr th:only-of-type {\n",
       "        vertical-align: middle;\n",
       "    }\n",
       "\n",
       "    .dataframe tbody tr th {\n",
       "        vertical-align: top;\n",
       "    }\n",
       "\n",
       "    .dataframe thead th {\n",
       "        text-align: right;\n",
       "    }\n",
       "</style>\n",
       "<table border=\"1\" class=\"dataframe\">\n",
       "  <thead>\n",
       "    <tr style=\"text-align: right;\">\n",
       "      <th></th>\n",
       "      <th>age</th>\n",
       "      <th>sex</th>\n",
       "      <th>cp</th>\n",
       "      <th>trestbps</th>\n",
       "      <th>chol</th>\n",
       "      <th>fbs</th>\n",
       "      <th>restecg</th>\n",
       "      <th>thalach</th>\n",
       "      <th>exang</th>\n",
       "      <th>oldpeak</th>\n",
       "      <th>slope</th>\n",
       "      <th>ca</th>\n",
       "      <th>thal</th>\n",
       "      <th>target</th>\n",
       "    </tr>\n",
       "  </thead>\n",
       "  <tbody>\n",
       "    <tr>\n",
       "      <th>473</th>\n",
       "      <td>41</td>\n",
       "      <td>1</td>\n",
       "      <td>2</td>\n",
       "      <td>130</td>\n",
       "      <td>214</td>\n",
       "      <td>0</td>\n",
       "      <td>0</td>\n",
       "      <td>168</td>\n",
       "      <td>0</td>\n",
       "      <td>2.0</td>\n",
       "      <td>1</td>\n",
       "      <td>0</td>\n",
       "      <td>2</td>\n",
       "      <td>1</td>\n",
       "    </tr>\n",
       "    <tr>\n",
       "      <th>970</th>\n",
       "      <td>38</td>\n",
       "      <td>1</td>\n",
       "      <td>2</td>\n",
       "      <td>138</td>\n",
       "      <td>175</td>\n",
       "      <td>0</td>\n",
       "      <td>1</td>\n",
       "      <td>173</td>\n",
       "      <td>0</td>\n",
       "      <td>0.0</td>\n",
       "      <td>2</td>\n",
       "      <td>4</td>\n",
       "      <td>2</td>\n",
       "      <td>1</td>\n",
       "    </tr>\n",
       "    <tr>\n",
       "      <th>588</th>\n",
       "      <td>61</td>\n",
       "      <td>0</td>\n",
       "      <td>0</td>\n",
       "      <td>145</td>\n",
       "      <td>307</td>\n",
       "      <td>0</td>\n",
       "      <td>0</td>\n",
       "      <td>146</td>\n",
       "      <td>1</td>\n",
       "      <td>1.0</td>\n",
       "      <td>1</td>\n",
       "      <td>0</td>\n",
       "      <td>3</td>\n",
       "      <td>0</td>\n",
       "    </tr>\n",
       "    <tr>\n",
       "      <th>37</th>\n",
       "      <td>59</td>\n",
       "      <td>1</td>\n",
       "      <td>0</td>\n",
       "      <td>138</td>\n",
       "      <td>271</td>\n",
       "      <td>0</td>\n",
       "      <td>0</td>\n",
       "      <td>182</td>\n",
       "      <td>0</td>\n",
       "      <td>0.0</td>\n",
       "      <td>2</td>\n",
       "      <td>0</td>\n",
       "      <td>2</td>\n",
       "      <td>1</td>\n",
       "    </tr>\n",
       "    <tr>\n",
       "      <th>842</th>\n",
       "      <td>58</td>\n",
       "      <td>1</td>\n",
       "      <td>2</td>\n",
       "      <td>112</td>\n",
       "      <td>230</td>\n",
       "      <td>0</td>\n",
       "      <td>0</td>\n",
       "      <td>165</td>\n",
       "      <td>0</td>\n",
       "      <td>2.5</td>\n",
       "      <td>1</td>\n",
       "      <td>1</td>\n",
       "      <td>3</td>\n",
       "      <td>0</td>\n",
       "    </tr>\n",
       "    <tr>\n",
       "      <th>141</th>\n",
       "      <td>63</td>\n",
       "      <td>0</td>\n",
       "      <td>0</td>\n",
       "      <td>124</td>\n",
       "      <td>197</td>\n",
       "      <td>0</td>\n",
       "      <td>1</td>\n",
       "      <td>136</td>\n",
       "      <td>1</td>\n",
       "      <td>0.0</td>\n",
       "      <td>1</td>\n",
       "      <td>0</td>\n",
       "      <td>2</td>\n",
       "      <td>0</td>\n",
       "    </tr>\n",
       "  </tbody>\n",
       "</table>\n",
       "</div>"
      ],
      "text/plain": [
       "     age  sex  cp  trestbps  chol  fbs  restecg  thalach  exang  oldpeak  \\\n",
       "473   41    1   2       130   214    0        0      168      0      2.0   \n",
       "970   38    1   2       138   175    0        1      173      0      0.0   \n",
       "588   61    0   0       145   307    0        0      146      1      1.0   \n",
       "37    59    1   0       138   271    0        0      182      0      0.0   \n",
       "842   58    1   2       112   230    0        0      165      0      2.5   \n",
       "141   63    0   0       124   197    0        1      136      1      0.0   \n",
       "\n",
       "     slope  ca  thal  target  \n",
       "473      1   0     2       1  \n",
       "970      2   4     2       1  \n",
       "588      1   0     3       0  \n",
       "37       2   0     2       1  \n",
       "842      1   1     3       0  \n",
       "141      1   0     2       0  "
      ]
     },
     "execution_count": 44,
     "metadata": {},
     "output_type": "execute_result"
    }
   ],
   "source": [
    "df.sample(6)"
   ]
  },
  {
   "cell_type": "code",
   "execution_count": 4,
   "id": "85a8773a-320a-4134-9c01-ff520a9623eb",
   "metadata": {},
   "outputs": [],
   "source": [
    "from sklearn.preprocessing import StandardScaler\n",
    "from sklearn.model_selection import train_test_split"
   ]
  },
  {
   "cell_type": "code",
   "execution_count": 5,
   "id": "5b2ffc88-326f-42f2-8a74-d0c1e933343f",
   "metadata": {},
   "outputs": [],
   "source": [
    "scale=StandardScaler()"
   ]
  },
  {
   "cell_type": "code",
   "execution_count": 6,
   "id": "3660560b-f335-404f-956a-20fb5c27ee4c",
   "metadata": {},
   "outputs": [],
   "source": [
    "X=df.drop('target',axis=1)\n",
    "y=df['target']"
   ]
  },
  {
   "cell_type": "code",
   "execution_count": 7,
   "id": "7f1e595a-8d39-4a2c-b5ca-08c4ca5520d3",
   "metadata": {},
   "outputs": [],
   "source": [
    "X_train, X_test, y_train, y_test = train_test_split(X, y, test_size=0.20, random_state=42)"
   ]
  },
  {
   "cell_type": "code",
   "execution_count": 8,
   "id": "b7b01add-7ac0-470c-91f5-b7b1b3eb63a5",
   "metadata": {},
   "outputs": [],
   "source": [
    "X_train=scale.fit_transform(X_train)\n",
    "X_test=scale.transform(X_test)"
   ]
  },
  {
   "cell_type": "code",
   "execution_count": 9,
   "id": "1c19828f-bb41-4b78-af57-1100066c647f",
   "metadata": {},
   "outputs": [],
   "source": [
    "from sklearn.linear_model import LogisticRegression\n",
    "from sklearn.tree import DecisionTreeClassifier\n",
    "from sklearn.naive_bayes import GaussianNB\n",
    "from sklearn.svm import SVC\n",
    "from sklearn.metrics import mean_absolute_error,accuracy_score"
   ]
  },
  {
   "cell_type": "code",
   "execution_count": 43,
   "id": "fbf8d0a1-8c9b-4b9a-be10-abdb4239dcf2",
   "metadata": {},
   "outputs": [
    {
     "name": "stdout",
     "output_type": "stream",
     "text": [
      "[1 1 0 1 0 1 0 0 1 0 1 0 1 1 0 1 0 1 1 0 1 0 0 0 1 1 1 1 0 1 1 1 1 1 1 1 1\n",
      " 0 1 1 0 0 1 0 0 0 0 0 1 0 1 0 1 0 1 1 0 0 1 1 1 0 0 0 0 0 1 1 0 1 1 0 0 1\n",
      " 1 1 0 1 1 1 0 0 0 0 1 0 1 0 0 1 0 0 1 1 1 1 1 0 0 0 0 0 1 1 0 1 0 1 0 1 1\n",
      " 1 1 0 1 1 1 1 1 0 0 1 0 0 0 0 1 1 1 1 1 0 1 0 0 1 0 1 1 1 1 1 1 0 1 1 1 1\n",
      " 1 0 1 0 1 1 0 0 1 1 0 0 1 1 0 0 0 0 0 0 0 1 0 1 1 0 1 1 1 0 1 1 1 0 1 1 1\n",
      " 1 1 1 1 1 1 1 1 1 0 0 1 0 1 1 1 1 1 0 0]\n",
      "lg Score 0.7951219512195122\n",
      "[1 1 0 1 0 1 0 0 1 0 1 0 1 1 0 0 0 1 1 0 0 0 0 0 0 1 1 1 0 0 0 1 0 1 1 1 0\n",
      " 1 1 1 0 0 1 0 0 0 0 0 0 1 1 0 0 0 1 1 0 0 0 1 1 1 0 1 0 0 1 0 0 1 0 0 0 1\n",
      " 1 1 0 0 0 1 0 0 0 0 1 0 1 0 0 0 0 0 1 1 1 1 0 0 0 0 1 0 0 1 0 1 0 1 0 1 0\n",
      " 1 1 0 1 1 0 1 1 0 1 1 0 0 1 0 1 0 0 1 1 0 1 1 0 1 0 1 1 0 1 1 1 1 1 1 1 1\n",
      " 0 0 0 0 1 1 0 0 0 1 0 0 1 1 0 0 1 1 0 0 1 1 0 1 1 0 1 1 1 0 0 1 1 0 1 0 1\n",
      " 1 1 0 1 1 1 0 0 0 0 1 0 0 1 1 1 1 1 0 0]\n",
      "dtc Score 0.9853658536585366\n",
      "[1 1 0 1 0 0 0 0 1 0 1 0 1 1 0 1 0 1 1 0 1 0 1 0 1 1 1 1 0 1 0 1 1 1 1 1 1\n",
      " 1 1 1 0 0 1 1 0 0 0 1 1 0 1 0 1 0 1 1 0 0 1 1 0 0 0 0 0 0 1 0 0 1 1 0 1 1\n",
      " 1 1 0 1 1 1 0 0 0 0 1 0 1 0 0 1 1 0 1 1 1 1 0 0 0 0 1 0 1 1 0 1 0 1 1 1 1\n",
      " 1 1 0 1 1 0 1 1 0 1 1 0 0 0 0 1 1 1 1 1 0 1 1 0 1 0 1 1 0 1 1 1 0 1 1 1 1\n",
      " 0 0 1 0 1 1 0 0 1 1 0 0 1 1 0 0 0 0 0 0 0 1 1 1 1 0 1 1 1 0 1 1 1 0 1 1 1\n",
      " 1 1 1 1 1 1 1 1 1 0 0 1 0 1 1 1 1 1 0 0]\n",
      "gb Score 0.8\n",
      "[1 1 0 1 0 1 0 0 1 0 1 0 1 1 0 1 0 1 1 0 1 0 1 0 1 1 1 1 0 1 0 1 0 1 1 1 1\n",
      " 1 1 1 0 0 1 1 0 0 0 0 0 0 1 0 1 0 1 1 0 0 1 1 1 1 0 0 0 0 1 0 0 1 0 0 0 1\n",
      " 1 1 0 0 1 1 0 0 0 0 1 0 1 0 0 1 0 0 1 1 1 1 0 0 0 0 1 0 1 1 0 1 0 0 0 1 1\n",
      " 1 1 0 1 1 0 1 1 0 1 1 0 0 1 0 1 0 0 1 1 0 1 1 0 1 0 1 1 0 1 1 1 0 1 1 1 1\n",
      " 0 0 0 0 1 1 0 0 1 1 0 0 1 1 0 0 0 1 0 0 1 1 0 1 1 0 1 1 1 0 1 1 1 0 1 1 1\n",
      " 1 1 1 1 1 1 1 0 1 0 0 1 0 1 1 1 1 1 0 0]\n",
      "ss Score 0.8878048780487805\n"
     ]
    }
   ],
   "source": [
    "models={\n",
    "'lg':LogisticRegression(),\n",
    "'dtc':DecisionTreeClassifier(),\n",
    "'gb':GaussianNB(),\n",
    "'ss':SVC()\n",
    "}\n",
    "for name, mod in models.items(): \n",
    "    mod.fit(X_train,y_train)\n",
    "    y_pred=mod.predict(X_test)\n",
    "    print(y_pred)\n",
    "\n",
    "    print(f\"{name} Score {accuracy_score(y_test,y_pred)}\")\n"
   ]
  },
  {
   "cell_type": "code",
   "execution_count": null,
   "id": "20c2e74b-cf3e-4e18-af5b-b07077170c19",
   "metadata": {},
   "outputs": [],
   "source": []
  },
  {
   "cell_type": "code",
   "execution_count": null,
   "id": "7365802b-65a0-467d-a310-b2aad013387f",
   "metadata": {},
   "outputs": [],
   "source": []
  },
  {
   "cell_type": "code",
   "execution_count": 11,
   "id": "f64df825-6995-4cbe-b24b-4ce265221551",
   "metadata": {},
   "outputs": [],
   "source": [
    "# lg.fit(X_train,y_train)"
   ]
  },
  {
   "cell_type": "code",
   "execution_count": 12,
   "id": "545b5edf-7dc0-4e08-8f30-6441608537f5",
   "metadata": {},
   "outputs": [],
   "source": [
    "# y_pred=lg.predict(X_test)"
   ]
  },
  {
   "cell_type": "code",
   "execution_count": 13,
   "id": "8e5283a5-e5ee-40bb-9e7b-d7d04da5e418",
   "metadata": {},
   "outputs": [],
   "source": [
    "# y_pred"
   ]
  },
  {
   "cell_type": "code",
   "execution_count": 14,
   "id": "17b9e8ee-2109-4419-a955-39cefc7e405a",
   "metadata": {},
   "outputs": [],
   "source": [
    "# from sklearn.metrics import accuracy_score"
   ]
  },
  {
   "cell_type": "code",
   "execution_count": 15,
   "id": "c465c830-b619-496e-8f67-24826c2b6461",
   "metadata": {},
   "outputs": [],
   "source": [
    "# score=accuracy_score(y_test,y_pred)"
   ]
  },
  {
   "cell_type": "code",
   "execution_count": 16,
   "id": "b4faf7fe-e0bb-466e-afd8-8b5c982fc963",
   "metadata": {},
   "outputs": [],
   "source": [
    "# score"
   ]
  },
  {
   "cell_type": "code",
   "execution_count": 17,
   "id": "b6fa1c85-750e-4cc5-9495-7ac84b70af77",
   "metadata": {},
   "outputs": [],
   "source": [
    "# from sklearn.neighbors import KNeighborsRegressor"
   ]
  },
  {
   "cell_type": "code",
   "execution_count": 18,
   "id": "536c8d22-74d5-4233-95ba-72ba832c9698",
   "metadata": {},
   "outputs": [],
   "source": [
    "# knr=KNeighborsRegressor()"
   ]
  },
  {
   "cell_type": "code",
   "execution_count": 19,
   "id": "e47e12ce-9adf-4d16-90ee-44ad91f8e59f",
   "metadata": {},
   "outputs": [],
   "source": [
    "# knr.fit(X_train,y_train)"
   ]
  },
  {
   "cell_type": "code",
   "execution_count": 20,
   "id": "773adbe9-417c-42a9-b74c-f9ba486441a2",
   "metadata": {},
   "outputs": [],
   "source": [
    "# y_pred2=knr.predict(X_test)"
   ]
  },
  {
   "cell_type": "code",
   "execution_count": 21,
   "id": "e99c6533-c62a-446c-b069-d964c9802168",
   "metadata": {},
   "outputs": [],
   "source": [
    "# y_pred2"
   ]
  },
  {
   "cell_type": "code",
   "execution_count": 22,
   "id": "cc086e34-cb81-405b-80d0-12db22e6770c",
   "metadata": {},
   "outputs": [],
   "source": [
    "# from sklearn.metrics import mean_absolute_error,r2_score"
   ]
  },
  {
   "cell_type": "code",
   "execution_count": 23,
   "id": "2f3c949e-3192-425e-9258-719cfb4e5f4b",
   "metadata": {},
   "outputs": [],
   "source": [
    "# score_2=r2_score(y_test,y_pred2)"
   ]
  },
  {
   "cell_type": "code",
   "execution_count": 24,
   "id": "5e38f0bd-b6a9-4f0d-85bd-b44a3d383e88",
   "metadata": {},
   "outputs": [],
   "source": [
    "# score_2"
   ]
  },
  {
   "cell_type": "code",
   "execution_count": 25,
   "id": "522c2af9-7ad0-40d5-88ed-76afb49b995a",
   "metadata": {},
   "outputs": [],
   "source": [
    "# from sklearn.svm import SVC"
   ]
  },
  {
   "cell_type": "code",
   "execution_count": 26,
   "id": "330c3b15-3231-4751-94c6-91a3bc08f02b",
   "metadata": {},
   "outputs": [],
   "source": [
    "# ss=SVC()"
   ]
  },
  {
   "cell_type": "code",
   "execution_count": 27,
   "id": "449fa497-abe4-4ff4-a873-46c30609e3dc",
   "metadata": {},
   "outputs": [],
   "source": [
    "# ss.fit(X_train,y_train)"
   ]
  },
  {
   "cell_type": "code",
   "execution_count": 28,
   "id": "19e0e9e5-e7e7-4a3b-8e2f-1916977fb5b6",
   "metadata": {},
   "outputs": [],
   "source": [
    "# y_pred3=ss.predict(X_test)"
   ]
  },
  {
   "cell_type": "code",
   "execution_count": 29,
   "id": "ef47ae22-373e-422e-897b-d19279906982",
   "metadata": {},
   "outputs": [],
   "source": [
    "# y_pred3"
   ]
  },
  {
   "cell_type": "code",
   "execution_count": 30,
   "id": "8e8f2a05-da93-4753-bcaf-d452b1dd3072",
   "metadata": {},
   "outputs": [],
   "source": [
    "# score3=accuracy_score(y_test,y_pred3)\n",
    "# score3"
   ]
  },
  {
   "cell_type": "code",
   "execution_count": 31,
   "id": "bd9d449d-1bc9-415e-b9e3-7f4923c5f5c9",
   "metadata": {},
   "outputs": [],
   "source": [
    "# from sklearn.naive_bayes import GaussianNB\n",
    "# gb=GaussianNB()"
   ]
  },
  {
   "cell_type": "code",
   "execution_count": 32,
   "id": "2b918729-8a8f-44dc-8fdd-155d6cb35c89",
   "metadata": {},
   "outputs": [],
   "source": [
    "# gb.fit(X_train,y_train)"
   ]
  },
  {
   "cell_type": "code",
   "execution_count": 33,
   "id": "8ded3bc5-e5a8-467b-9263-664f6f69c3ae",
   "metadata": {},
   "outputs": [],
   "source": [
    "# y_pred4=gb.predict(X_test)"
   ]
  },
  {
   "cell_type": "code",
   "execution_count": 34,
   "id": "9d0db242-7768-4ec9-bc62-31aa5c58bcd4",
   "metadata": {},
   "outputs": [],
   "source": [
    "# y_pred4"
   ]
  },
  {
   "cell_type": "code",
   "execution_count": 35,
   "id": "2ec501ad-bb56-4f5d-8a63-0064826b6664",
   "metadata": {},
   "outputs": [],
   "source": [
    "# score4=accuracy_score(y_test,y_pred4)\n",
    "# score4"
   ]
  },
  {
   "cell_type": "code",
   "execution_count": 36,
   "id": "7aec48ca-3c25-4309-ad09-f41062545b9e",
   "metadata": {},
   "outputs": [],
   "source": [
    "# from sklearn.tree import DecisionTreeClassifier"
   ]
  },
  {
   "cell_type": "code",
   "execution_count": 37,
   "id": "25aed1fd-5cb1-4fc3-862a-b9ae0d9a9d2b",
   "metadata": {},
   "outputs": [],
   "source": [
    "# dtc=DecisionTreeClassifier()"
   ]
  },
  {
   "cell_type": "code",
   "execution_count": 38,
   "id": "8f1c21ad-42e6-44d6-87fc-4367be5f14bb",
   "metadata": {},
   "outputs": [],
   "source": [
    "# dtc.fit(X_train,y_train)"
   ]
  },
  {
   "cell_type": "code",
   "execution_count": 39,
   "id": "05fae13a-275c-44ec-bae6-bdcf57e28c00",
   "metadata": {},
   "outputs": [],
   "source": [
    "# y_pred5=dtc.predict(X_test)"
   ]
  },
  {
   "cell_type": "code",
   "execution_count": 40,
   "id": "ba4e4303-18b1-4441-94f3-c6e247e8f8bd",
   "metadata": {},
   "outputs": [],
   "source": [
    "# y_pred5"
   ]
  },
  {
   "cell_type": "code",
   "execution_count": 41,
   "id": "7210c0db-8d0c-4d32-98db-755cc624b294",
   "metadata": {},
   "outputs": [],
   "source": [
    "# score5=accuracy_score(y_test,y_pred5)"
   ]
  },
  {
   "cell_type": "code",
   "execution_count": 42,
   "id": "d7b427d2-4ad3-4bc4-8c50-751f5e877c52",
   "metadata": {},
   "outputs": [],
   "source": [
    "# score5"
   ]
  },
  {
   "cell_type": "code",
   "execution_count": null,
   "id": "fc02e1bc-eacc-4726-894f-f94d96687d5a",
   "metadata": {},
   "outputs": [],
   "source": []
  }
 ],
 "metadata": {
  "kernelspec": {
   "display_name": "Python 3 (ipykernel)",
   "language": "python",
   "name": "python3"
  },
  "language_info": {
   "codemirror_mode": {
    "name": "ipython",
    "version": 3
   },
   "file_extension": ".py",
   "mimetype": "text/x-python",
   "name": "python",
   "nbconvert_exporter": "python",
   "pygments_lexer": "ipython3",
   "version": "3.13.1"
  }
 },
 "nbformat": 4,
 "nbformat_minor": 5
}
